{
 "cells": [
  {
   "cell_type": "code",
   "execution_count": 2,
   "id": "abd87597",
   "metadata": {},
   "outputs": [
    {
     "name": "stdout",
     "output_type": "stream",
     "text": [
      "Defaulting to user installation because normal site-packages is not writeable\n",
      "Requirement already satisfied: python_dotenv in c:\\users\\phec\\appdata\\roaming\\python\\python310\\site-packages (1.0.1)\n",
      "Defaulting to user installation because normal site-packages is not writeable\n",
      "Requirement already satisfied: ibm_watson in c:\\users\\phec\\appdata\\roaming\\python\\python310\\site-packages (9.0.0)\n",
      "Requirement already satisfied: ibm_cloud_sdk_core==3.*,>=3.3.6 in c:\\users\\phec\\appdata\\roaming\\python\\python310\\site-packages (from ibm_watson) (3.22.0)\n",
      "Requirement already satisfied: websocket-client>=1.1.0 in c:\\users\\phec\\appdata\\roaming\\python\\python310\\site-packages (from ibm_watson) (1.8.0)\n",
      "Requirement already satisfied: python_dateutil>=2.5.3 in c:\\programdata\\anaconda3\\lib\\site-packages (from ibm_watson) (2.8.2)\n",
      "Requirement already satisfied: requests<3.0,>=2.0 in c:\\users\\phec\\appdata\\roaming\\python\\python310\\site-packages (from ibm_watson) (2.32.3)\n",
      "Requirement already satisfied: PyJWT<3.0.0,>=2.8.0 in c:\\users\\phec\\appdata\\roaming\\python\\python310\\site-packages (from ibm_cloud_sdk_core==3.*,>=3.3.6->ibm_watson) (2.10.1)\n",
      "Requirement already satisfied: urllib3<3.0.0,>=2.1.0 in c:\\users\\phec\\appdata\\roaming\\python\\python310\\site-packages (from ibm_cloud_sdk_core==3.*,>=3.3.6->ibm_watson) (2.3.0)\n",
      "Requirement already satisfied: six>=1.5 in c:\\programdata\\anaconda3\\lib\\site-packages (from python_dateutil>=2.5.3->ibm_watson) (1.16.0)\n",
      "Requirement already satisfied: charset-normalizer<4,>=2 in c:\\programdata\\anaconda3\\lib\\site-packages (from requests<3.0,>=2.0->ibm_watson) (2.0.4)\n",
      "Requirement already satisfied: idna<4,>=2.5 in c:\\programdata\\anaconda3\\lib\\site-packages (from requests<3.0,>=2.0->ibm_watson) (3.4)\n",
      "Requirement already satisfied: certifi>=2017.4.17 in c:\\programdata\\anaconda3\\lib\\site-packages (from requests<3.0,>=2.0->ibm_watson) (2022.12.7)\n"
     ]
    }
   ],
   "source": [
    "!pip install python_dotenv\n",
    "!pip install ibm_watson\n",
    "import os\n",
    "from dotenv import load_dotenv\n",
    "from ibm_watson import TextToSpeechV1\n",
    "from ibm_cloud_sdk_core.authenticators import IAMAuthenticator\n",
    "\n",
    "load_dotenv()\n",
    "URL = (\"https://api.au-syd.text-to-speech.watson.cloud.ibm.com/instances/c55838b7-7c27-4dfd-95ee-c04b03f5133f\")\n",
    "API_KEY = (\"W55F7doTyvlxuo92bCHMx3g9KTaTvisOgQoHt2TXfYJ_\")\n",
    "\n",
    "authenticator = IAMAuthenticator(API_KEY)\n",
    "\n",
    "text_to_speech = TextToSpeechV1(authenticator=authenticator)\n",
    "text_to_speech.set_service_url(service_url=URL)\n",
    "\n",
    "line1 = \"This is ground control can you read me?\"\n",
    "line2 = \"Yes I can hear you.\"\n",
    "line3 = \"You've made it to your friend's last known location.\"\n",
    "line4 = \"I'll see if I can find anything.\"\n",
    "line5 = \"Be careful out there son.\"\n",
    "\n",
    "with open(\"ground_control.mp3\",\"wb\") as audio_file:\n",
    "    audio1 = text_to_speech.synthesize(\n",
    "        text=line1,\n",
    "        accept=\"audio/mp3\",\n",
    "        voice=\"en-US_LisaV3Voice\",\n",
    "    ).get_result()\n",
    "    audio2 = text_to_speech.synthesize(\n",
    "        text=line2,\n",
    "        accept=\"audio/mp3\",\n",
    "        voice=\"en-US_MichaelV3Voice\",\n",
    "    ).get_result() \n",
    "    audio3 = text_to_speech.synthesize(\n",
    "        text=line3,\n",
    "        accept=\"audio/mp3\",\n",
    "        voice=\"en-US_LisaV3Voice\",\n",
    "    ).get_result()\n",
    "    audio4 = text_to_speech.synthesize(\n",
    "        text=line4,\n",
    "        accept=\"audio/mp3\",\n",
    "        voice=\"en-US_MichaelV3Voice\",\n",
    "    ).get_result()\n",
    "    audio5= text_to_speech.synthesize(\n",
    "        text=line5,\n",
    "        accept=\"audio/mp3\",\n",
    "        voice=\"en-US_HenryV3Voice\",\n",
    "    ).get_result() \n",
    "    \n",
    "    audio_file.write(audio1.content)\n",
    "    audio_file.write(audio2.content)\n",
    "    audio_file.write(audio3.content)\n",
    "    audio_file.write(audio4.content)\n",
    "    audio_file.write(audio5.content)"
   ]
  },
  {
   "cell_type": "code",
   "execution_count": null,
   "id": "40d68bda",
   "metadata": {},
   "outputs": [],
   "source": []
  },
  {
   "cell_type": "code",
   "execution_count": null,
   "id": "d9237977",
   "metadata": {},
   "outputs": [],
   "source": []
  }
 ],
 "metadata": {
  "kernelspec": {
   "display_name": "Python 3 (ipykernel)",
   "language": "python",
   "name": "python3"
  },
  "language_info": {
   "codemirror_mode": {
    "name": "ipython",
    "version": 3
   },
   "file_extension": ".py",
   "mimetype": "text/x-python",
   "name": "python",
   "nbconvert_exporter": "python",
   "pygments_lexer": "ipython3",
   "version": "3.10.9"
  }
 },
 "nbformat": 4,
 "nbformat_minor": 5
}
